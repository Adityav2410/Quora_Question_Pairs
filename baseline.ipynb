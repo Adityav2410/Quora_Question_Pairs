{
 "cells": [
  {
   "cell_type": "code",
   "execution_count": 126,
   "metadata": {},
   "outputs": [],
   "source": [
    "import pandas as pd\n",
    "import numpy as np\n",
    "from collections import defaultdict\n",
    "import nltk\n",
    "import string\n",
    "from nltk.stem.porter import *\n",
    "from sklearn import linear_model\n",
    "import sys\n",
    "import unicodedata\n",
    "import string\n",
    "import operator\n",
    "import math\n",
    "from sklearn.feature_extraction.text import TfidfVectorizer\n",
    "from nltk.corpus import stopwords\n",
    "from nltk.stem.porter import PorterStemmer\n",
    "from scipy import sparse\n",
    "from scipy.spatial.distance import cosine\n",
    "from sklearn.metrics import average_precision_score\n",
    "from sklearn.metrics import precision_recall_curve\n",
    "import matplotlib.pyplot as plt\n",
    "stdout = sys.stdout\n",
    "reload(sys)  \n",
    "sys.setdefaultencoding('utf8')\n",
    "sys.stdout = stdout"
   ]
  },
  {
   "cell_type": "code",
   "execution_count": 76,
   "metadata": {},
   "outputs": [
    {
     "name": "stdout",
     "output_type": "stream",
     "text": [
      "Index([u'id', u'qid1', u'qid2', u'question1', u'question2', u'is_duplicate'], dtype='object')\n"
     ]
    }
   ],
   "source": [
    "train_df = pd.read_csv('train.csv')\n",
    "print train_df.columns"
   ]
  },
  {
   "cell_type": "code",
   "execution_count": 77,
   "metadata": {},
   "outputs": [],
   "source": [
    "train_q1 = train_df['question1'].tolist()\n",
    "train_q2 = train_df['question2'].tolist()\n",
    "train_y = train_df['is_duplicate'].tolist()"
   ]
  },
  {
   "cell_type": "code",
   "execution_count": 78,
   "metadata": {},
   "outputs": [
    {
     "name": "stdout",
     "output_type": "stream",
     "text": [
      "404290\n",
      "404290\n",
      "[363362]\n",
      "[363362, 105780, 201841]\n",
      "404287\n",
      "404287\n",
      "404287\n"
     ]
    }
   ],
   "source": [
    "print len(train_q1)\n",
    "print len(train_q2)\n",
    "\n",
    "del_idxs = []\n",
    "\n",
    "for i,q in enumerate(train_q1):\n",
    "    if type(q) != str:\n",
    "        del_idxs.append(i)\n",
    "print del_idxs\n",
    "for i,q in enumerate(train_q2):\n",
    "    if type(q) != str:\n",
    "        del_idxs.append(i)\n",
    "print del_idxs\n",
    "del_idxs = list(set(del_idxs))\n",
    "\n",
    "train_q1 = [train_q1[i] for i in range(len(train_q1)) if i not in del_idxs]    \n",
    "train_q2 = [train_q2[i] for i in range(len(train_q2)) if i not in del_idxs]    \n",
    "train_y = [train_y[i] for i in range(len(train_y)) if i not in del_idxs]    \n",
    "print len(train_q1)\n",
    "print len(train_q2)\n",
    "print len(train_y)"
   ]
  },
  {
   "cell_type": "code",
   "execution_count": 79,
   "metadata": {},
   "outputs": [],
   "source": [
    "#nltk.download('stopwords')\n",
    "tbl = dict.fromkeys(i for i in xrange(sys.maxunicode) if unicodedata.category(unichr(i)).startswith('P'))\n",
    "stop_words = set(stopwords.words('english'))\n",
    "def tokenize(text):\n",
    "    #print text\n",
    "    text = unicode(text)\n",
    "    #text = re.sub(r'\\d+', '', text)\n",
    "    #print text\n",
    "    tokens = nltk.word_tokenize(text)\n",
    "    \n",
    "    stems = []\n",
    "    for item in tokens:\n",
    "       if item not in stop_words:\n",
    "            #stems.append(item)\n",
    "           stems.append(PorterStemmer().stem(item))\n",
    "    return stems\n",
    "\n",
    "def preprocess(text):\n",
    "    if type(text)==float:\n",
    "        print text\n",
    "    text = text.lower().translate(None, string.punctuation)\n",
    "    return text"
   ]
  },
  {
   "cell_type": "code",
   "execution_count": 80,
   "metadata": {},
   "outputs": [],
   "source": [
    "# Remove punctuation\n",
    "\n",
    "train_q1 = [preprocess(q) for q in train_q1]\n",
    "train_q2 = [preprocess(q) for q in train_q2]"
   ]
  },
  {
   "cell_type": "code",
   "execution_count": 81,
   "metadata": {},
   "outputs": [],
   "source": [
    "# stemming and tokenize\n",
    "\n",
    "wordCount = defaultdict(int)\n",
    "for i,q in enumerate(train_q1):\n",
    "    words = tokenize(q)\n",
    "    for w in words:\n",
    "        wordCount[w]+=1"
   ]
  },
  {
   "cell_type": "code",
   "execution_count": 82,
   "metadata": {},
   "outputs": [
    {
     "name": "stdout",
     "output_type": "stream",
     "text": [
      "86598\n"
     ]
    }
   ],
   "source": [
    "for i,q in enumerate(train_q2):\n",
    "    words = tokenize(q)\n",
    "    for w in words:\n",
    "        wordCount[w]+=1\n",
    "        \n",
    "print len(wordCount.keys())"
   ]
  },
  {
   "cell_type": "code",
   "execution_count": 83,
   "metadata": {},
   "outputs": [
    {
     "name": "stdout",
     "output_type": "stream",
     "text": [
      "[u'best', u'get', u'india', u'like', u'use', u'peopl', u'good', u'way', u'differ', u'would', u'make', u'one', u'quora', u'learn', u'time', u'life', u'work', u'know', u'money', u'year', u'thing', u'think', u'mean', u'question', u'what', u'go', u'indian', u'new', u'much', u'start', u'someon', u'engin', u'book', u'mani', u'becom', u'find', u'want', u'job', u'day', u'movi', u'trump', u'us', u'happen', u'ever', u'without', u'world', u'feel', u'onlin', u'better', u'person', u'girl', u'take', u'first', u'note', u'love', u'compani', u'need', u'dont', u'univers', u'account', u'english', u'possibl', u'improv', u'phone', u'buy', u'could', u'program', u'prepar', u'2016', u'number', u'countri', u'compar', u'ask', u'chang', u'live', u'languag', u'weight', u'student', u'realli', u'studi', u'app', u'googl', u'donald', u'lose', u'stop', u'busi', u'500', u'1000', u'answer', u'friend', u'develop', u'im', u'websit', u'import', u'long', u'war', u'effect', u'look', u'colleg', u'place']\n"
     ]
    }
   ],
   "source": [
    "# Limit the vocabulary\n",
    "uni_sorted = sorted(wordCount.items(), key=operator.itemgetter(1)) [::-1]\n",
    "vocab = [item[0] for item in uni_sorted[:10000]]\n",
    "print vocab[:100]"
   ]
  },
  {
   "cell_type": "code",
   "execution_count": 84,
   "metadata": {},
   "outputs": [],
   "source": [
    "# Create a single list of questions\n",
    "train = train_q1+train_q2\n",
    "vectorizer = TfidfVectorizer(tokenizer=tokenize, vocabulary=vocab)\n",
    "train_tfidf = vectorizer.fit_transform(train)"
   ]
  },
  {
   "cell_type": "code",
   "execution_count": 85,
   "metadata": {},
   "outputs": [
    {
     "name": "stdout",
     "output_type": "stream",
     "text": [
      "(808574, 10000)\n",
      "404287\n",
      "404287\n",
      "808574\n"
     ]
    }
   ],
   "source": [
    "print train_tfidf.shape\n",
    "print len(train_q1)\n",
    "print len(train_q2)\n",
    "print len(train)"
   ]
  },
  {
   "cell_type": "code",
   "execution_count": 86,
   "metadata": {},
   "outputs": [],
   "source": [
    "def csr_cosine_dist(A,B):\n",
    "    A_d = sparse.csr_matrix.todense(A)\n",
    "    B_d = sparse.csr_matrix.todense(B)\n",
    "    return cosine(A_d,B_d)\n",
    "\n",
    "distances = []\n",
    "for i in range(len(train_q2)):\n",
    "    j = i+len(train_q1)\n",
    "    distances.append(csr_cosine_dist(train_tfidf[i], train_tfidf[j]))"
   ]
  },
  {
   "cell_type": "code",
   "execution_count": 88,
   "metadata": {},
   "outputs": [
    {
     "name": "stdout",
     "output_type": "stream",
     "text": [
      "404287\n"
     ]
    }
   ],
   "source": [
    "print len(distances)\n",
    "distances = np.array(distances)\n",
    "train_y = np.array(train_y)"
   ]
  },
  {
   "cell_type": "code",
   "execution_count": 123,
   "metadata": {},
   "outputs": [
    {
     "name": "stdout",
     "output_type": "stream",
     "text": [
      "0.629340048035\n",
      "Average precision-recall score: 0.47\n"
     ]
    }
   ],
   "source": [
    "thresh = 0.45\n",
    "preds = distances<thresh\n",
    "acc = np.mean(preds == train_y)\n",
    "print acc\n",
    "average_precision = average_precision_score(train_y, preds)\n",
    "\n",
    "print('Average precision-recall score: {0:0.2f}'.format(\n",
    "      average_precision))\n"
   ]
  },
  {
   "cell_type": "code",
   "execution_count": null,
   "metadata": {},
   "outputs": [],
   "source": [
    "precision, recall, _ = precision_recall_curve(train_y, preds)\n",
    "\n",
    "plt.step(recall, precision, color='b', alpha=0.2,\n",
    "         where='post')\n",
    "plt.fill_between(recall, precision, step='post', alpha=0.2,\n",
    "                 color='b')\n",
    "\n",
    "plt.xlabel('Recall')\n",
    "plt.ylabel('Precision')\n",
    "plt.ylim([0.0, 1.05])\n",
    "plt.xlim([0.0, 1.0])\n",
    "plt.title('2-class Precision-Recall curve: AP={0:0.2f}'.format(\n",
    "          average_precision))\n",
    "plt.show()"
   ]
  }
 ],
 "metadata": {
  "kernelspec": {
   "display_name": "Python 2",
   "language": "python",
   "name": "python2"
  },
  "language_info": {
   "codemirror_mode": {
    "name": "ipython",
    "version": 2
   },
   "file_extension": ".py",
   "mimetype": "text/x-python",
   "name": "python",
   "nbconvert_exporter": "python",
   "pygments_lexer": "ipython2",
   "version": "2.7.12"
  }
 },
 "nbformat": 4,
 "nbformat_minor": 1
}
