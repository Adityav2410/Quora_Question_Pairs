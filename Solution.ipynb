{
 "cells": [
  {
   "cell_type": "markdown",
   "metadata": {},
   "source": [
    "## Import libraries"
   ]
  },
  {
   "cell_type": "code",
   "execution_count": 1,
   "metadata": {},
   "outputs": [
    {
     "name": "stderr",
     "output_type": "stream",
     "text": [
      "Using TensorFlow backend.\n"
     ]
    }
   ],
   "source": [
    "# reload(sys)\n",
    "import pandas as pd\n",
    "import numpy as np\n",
    "import os\n",
    "import random\n",
    "from pdb import set_trace as bp\n",
    "import matplotlib.pyplot as plt\n",
    "from collections import defaultdict\n",
    "import pickle\n",
    "import sys \n",
    "from sklearn.utils import shuffle\n",
    "from dataGenerator import DataGenerator\n",
    "from models import QuoraModel\n",
    "from sklearn.model_selection import train_test_split\n",
    "from keras.preprocessing.text import text_to_word_sequence\n",
    "from utils import plotGraph,plotLengthHistogram,plotHist,labelPlot\n",
    "from utils import createTiles, plotHistory\n",
    "from modelTrainer import ModelTrainer"
   ]
  },
  {
   "cell_type": "code",
   "execution_count": 2,
   "metadata": {},
   "outputs": [],
   "source": [
    "## Define parameters\n",
    "timeSlice = 2\n",
    "questionLen = 25\n",
    "wordEmbeddDim = 100\n",
    "batchSize  = 16\n",
    "nEpochs = 10"
   ]
  },
  {
   "cell_type": "code",
   "execution_count": 3,
   "metadata": {},
   "outputs": [
    {
     "name": "stdout",
     "output_type": "stream",
     "text": [
      "Data Generator succesfully initialized :) :) :) \n"
     ]
    }
   ],
   "source": [
    "dataGenerator = DataGenerator(batchSize = batchSize, \n",
    "                              questionLen = questionLen,\n",
    "                              wordEmbeddDim = wordEmbeddDim)\n",
    "nData = dataGenerator.nTrainData"
   ]
  },
  {
   "cell_type": "code",
   "execution_count": 22,
   "metadata": {},
   "outputs": [
    {
     "name": "stdout",
     "output_type": "stream",
     "text": [
      "_________________________________________________________________\n",
      "Layer (type)                 Output Shape              Param #   \n",
      "=================================================================\n",
      "input_5 (InputLayer)         (None, 2, 25, 100)        0         \n",
      "_________________________________________________________________\n",
      "batch_norm_1 (BatchNormaliza (None, 2, 25, 100)        400       \n",
      "_________________________________________________________________\n",
      "lstm_1 (TimeDistributed)     (None, 2, 25, 500)        1202000   \n",
      "_________________________________________________________________\n",
      "batch_norm_2 (BatchNormaliza (None, 2, 25, 500)        2000      \n",
      "_________________________________________________________________\n",
      "lstm_2 (TimeDistributed)     (None, 2, 250)            751000    \n",
      "_________________________________________________________________\n",
      "flatten (Flatten)            (None, 500)               0         \n",
      "_________________________________________________________________\n",
      "batch_norm_3 (BatchNormaliza (None, 500)               2000      \n",
      "_________________________________________________________________\n",
      "dense_13 (Dense)             (None, 256)               128256    \n",
      "_________________________________________________________________\n",
      "batch_norm_4 (BatchNormaliza (None, 256)               1024      \n",
      "_________________________________________________________________\n",
      "dense_14 (Dense)             (None, 128)               32896     \n",
      "_________________________________________________________________\n",
      "dense_15 (Dense)             (None, 1)                 129       \n",
      "=================================================================\n",
      "Total params: 2,119,705\n",
      "Trainable params: 2,116,993\n",
      "Non-trainable params: 2,712\n",
      "_________________________________________________________________\n"
     ]
    }
   ],
   "source": [
    "# This returns a tensor\n",
    "from keras.optimizers import Nadam\n",
    "net = QuoraModel(questionLen = questionLen,\n",
    "                   wordEmbeddDim = wordEmbeddDim)\n",
    "model = net.getModel1(load_weight = False)\n",
    "nadam = Nadam(lr=1e-7, beta_1=0.9, beta_2=0.999, epsilon=1e-08, schedule_decay=0.004)\n",
    "model.compile(optimizer=nadam,\n",
    "              loss='binary_crossentropy',\n",
    "              metrics=['accuracy'])\n",
    "model.summary()"
   ]
  },
  {
   "cell_type": "code",
   "execution_count": 23,
   "metadata": {},
   "outputs": [],
   "source": [
    "trainer = ModelTrainer(modelName = 'model1', model = model)"
   ]
  },
  {
   "cell_type": "code",
   "execution_count": 7,
   "metadata": {
    "collapsed": true
   },
   "outputs": [
    {
     "ename": "TypeError",
     "evalue": "createTiles() takes at most 4 arguments (5 given)",
     "output_type": "error",
     "traceback": [
      "\u001b[0;31m---------------------------------------------------------------------------\u001b[0m",
      "\u001b[0;31mTypeError\u001b[0m                                 Traceback (most recent call last)",
      "\u001b[0;32m<ipython-input-7-940caff97e6c>\u001b[0m in \u001b[0;36m<module>\u001b[0;34m()\u001b[0m\n\u001b[0;32m----> 1\u001b[0;31m \u001b[0mtrainer\u001b[0m\u001b[0;34m.\u001b[0m\u001b[0mplotTrainHist\u001b[0m\u001b[0;34m(\u001b[0m\u001b[0;34m)\u001b[0m\u001b[0;34m\u001b[0m\u001b[0m\n\u001b[0m",
      "\u001b[0;32m/home/aditya/ADITYA/Project/Quora_Question_Pairs/modelTrainer.py\u001b[0m in \u001b[0;36mplotTrainHist\u001b[0;34m(self)\u001b[0m\n\u001b[1;32m     67\u001b[0m \u001b[0;34m\u001b[0m\u001b[0m\n\u001b[1;32m     68\u001b[0m     \u001b[0;32mdef\u001b[0m \u001b[0mplotTrainHist\u001b[0m\u001b[0;34m(\u001b[0m\u001b[0mself\u001b[0m\u001b[0;34m)\u001b[0m\u001b[0;34m:\u001b[0m\u001b[0;34m\u001b[0m\u001b[0m\n\u001b[0;32m---> 69\u001b[0;31m         \u001b[0mfig\u001b[0m\u001b[0;34m,\u001b[0m \u001b[0mplots\u001b[0m \u001b[0;34m=\u001b[0m \u001b[0mself\u001b[0m\u001b[0;34m.\u001b[0m\u001b[0mcreateTiles\u001b[0m\u001b[0;34m(\u001b[0m\u001b[0;36m1\u001b[0m\u001b[0;34m,\u001b[0m\u001b[0;36m2\u001b[0m\u001b[0;34m,\u001b[0m\u001b[0;36m15\u001b[0m\u001b[0;34m,\u001b[0m\u001b[0;36m5\u001b[0m\u001b[0;34m)\u001b[0m\u001b[0;34m\u001b[0m\u001b[0m\n\u001b[0m\u001b[1;32m     70\u001b[0m         \u001b[0mplots\u001b[0m\u001b[0;34m[\u001b[0m\u001b[0;36m0\u001b[0m\u001b[0;34m]\u001b[0m\u001b[0;34m.\u001b[0m\u001b[0mplot\u001b[0m\u001b[0;34m(\u001b[0m\u001b[0mself\u001b[0m\u001b[0;34m.\u001b[0m\u001b[0mtrainLoss\u001b[0m\u001b[0;34m)\u001b[0m\u001b[0;34m;\u001b[0m\u001b[0;34m\u001b[0m\u001b[0m\n\u001b[1;32m     71\u001b[0m         \u001b[0mplots\u001b[0m\u001b[0;34m[\u001b[0m\u001b[0;36m0\u001b[0m\u001b[0;34m]\u001b[0m\u001b[0;34m.\u001b[0m\u001b[0mplot\u001b[0m\u001b[0;34m(\u001b[0m\u001b[0mself\u001b[0m\u001b[0;34m.\u001b[0m\u001b[0mvalidLoss\u001b[0m\u001b[0;34m)\u001b[0m\u001b[0;34m\u001b[0m\u001b[0m\n",
      "\u001b[0;31mTypeError\u001b[0m: createTiles() takes at most 4 arguments (5 given)"
     ]
    }
   ],
   "source": [
    "# trainer.plotTrainHist()"
   ]
  },
  {
   "cell_type": "markdown",
   "metadata": {},
   "source": [
    "# train Network"
   ]
  },
  {
   "cell_type": "markdown",
   "metadata": {},
   "source": [
    "## train Model 1"
   ]
  },
  {
   "cell_type": "code",
   "execution_count": 25,
   "metadata": {
    "scrolled": false
   },
   "outputs": [
    {
     "name": "stdout",
     "output_type": "stream",
     "text": [
      "Epoch:0\t Iter: 1\t TrainLoss 0.6612\t ValidLos: 0.6816             TrainAcc: 1.0000\t ValidAcc: 0.6875\n",
      "Best loss: 0.66 \t Best Acc: 0.71\n",
      "Weights saved at \t ./modelWeights/model1_2017_12_03_13:42_loss_0.6626_acc_0.713.h5py\n",
      "Epoch:0\t Iter: 51\t TrainLoss 0.6243\t ValidLos: 0.6626             TrainAcc: 1.0000\t ValidAcc: 0.7125\n",
      "Best loss: 0.66 \t Best Acc: 0.63\n",
      "Weights saved at \t ./modelWeights/model1_2017_12_03_13:42_loss_0.6611_acc_0.631.h5py\n",
      "Epoch:0\t Iter: 101\t TrainLoss 0.5750\t ValidLos: 0.6611             TrainAcc: 1.0000\t ValidAcc: 0.6312\n",
      "Best loss: 0.65 \t Best Acc: 0.64\n",
      "Weights saved at \t ./modelWeights/model1_2017_12_03_13:42_loss_0.6469_acc_0.644.h5py\n",
      "Epoch:0\t Iter: 151\t TrainLoss 0.5082\t ValidLos: 0.6469             TrainAcc: 1.0000\t ValidAcc: 0.6438\n",
      "Epoch:0\t Iter: 201\t TrainLoss 0.4599\t ValidLos: 0.7286             TrainAcc: 1.0000\t ValidAcc: 0.5062\n",
      "Epoch:0\t Iter: 251\t TrainLoss 0.3748\t ValidLos: 0.7372             TrainAcc: 1.0000\t ValidAcc: 0.5437\n",
      "Epoch:0\t Iter: 301\t TrainLoss 0.3151\t ValidLos: 0.7044             TrainAcc: 1.0000\t ValidAcc: 0.6000\n",
      "Epoch:0\t Iter: 351\t TrainLoss 0.3115\t ValidLos: 0.6997             TrainAcc: 1.0000\t ValidAcc: 0.5875\n",
      "Epoch:0\t Iter: 401\t TrainLoss 0.3312\t ValidLos: 0.6986             TrainAcc: 1.0000\t ValidAcc: 0.6312\n",
      "Epoch:0\t Iter: 451\t TrainLoss 0.3675\t ValidLos: 0.8049             TrainAcc: 1.0000\t ValidAcc: 0.6375\n",
      "Epoch:0\t Iter: 501\t TrainLoss 0.3876\t ValidLos: 0.7029             TrainAcc: 1.0000\t ValidAcc: 0.5563\n",
      "Epoch:0\t Iter: 551\t TrainLoss 0.3932\t ValidLos: 0.9063             TrainAcc: 1.0000\t ValidAcc: 0.5938\n",
      "Epoch:0\t Iter: 601\t TrainLoss 0.4664\t ValidLos: 0.8368             TrainAcc: 1.0000\t ValidAcc: 0.6125\n",
      "Epoch:0\t Iter: 651\t TrainLoss 0.4977\t ValidLos: 0.8749             TrainAcc: 1.0000\t ValidAcc: 0.5500\n",
      "Epoch:0\t Iter: 701\t TrainLoss 0.4905\t ValidLos: 1.0457             TrainAcc: 1.0000\t ValidAcc: 0.5437\n",
      "Epoch:0\t Iter: 751\t TrainLoss 0.4464\t ValidLos: 1.2856             TrainAcc: 1.0000\t ValidAcc: 0.5500\n",
      "Epoch:0\t Iter: 801\t TrainLoss 0.5265\t ValidLos: 0.9013             TrainAcc: 0.5000\t ValidAcc: 0.5750\n",
      "Epoch:0\t Iter: 851\t TrainLoss 0.5115\t ValidLos: 0.9626             TrainAcc: 0.5000\t ValidAcc: 0.6312\n",
      "Epoch:0\t Iter: 901\t TrainLoss 0.5354\t ValidLos: 1.2874             TrainAcc: 0.5000\t ValidAcc: 0.6250\n",
      "Epoch:0\t Iter: 951\t TrainLoss 0.5763\t ValidLos: 0.8552             TrainAcc: 0.5000\t ValidAcc: 0.6250\n",
      "Epoch:0\t Iter: 1001\t TrainLoss 0.6422\t ValidLos: 0.9937             TrainAcc: 0.5000\t ValidAcc: 0.5875\n",
      "Epoch:0\t Iter: 1051\t TrainLoss 0.5829\t ValidLos: 1.2876             TrainAcc: 0.5000\t ValidAcc: 0.5563\n",
      "Epoch:0\t Iter: 1101\t TrainLoss 0.6056\t ValidLos: 0.7147             TrainAcc: 0.5000\t ValidAcc: 0.6000\n",
      "Epoch:0\t Iter: 1151\t TrainLoss 0.5555\t ValidLos: 0.9886             TrainAcc: 0.5000\t ValidAcc: 0.5813\n",
      "Epoch:0\t Iter: 1201\t TrainLoss 0.6400\t ValidLos: 1.0052             TrainAcc: 0.5000\t ValidAcc: 0.6312\n",
      "Epoch:0\t Iter: 1251\t TrainLoss 0.5893\t ValidLos: 0.9791             TrainAcc: 0.5000\t ValidAcc: 0.5500\n",
      "Epoch:0\t Iter: 1301\t TrainLoss 0.5196\t ValidLos: 0.6775             TrainAcc: 1.0000\t ValidAcc: 0.6375\n",
      "Epoch:0\t Iter: 1351\t TrainLoss 0.5078\t ValidLos: 1.2736             TrainAcc: 1.0000\t ValidAcc: 0.5312\n",
      "Epoch:0\t Iter: 1401\t TrainLoss 0.6086\t ValidLos: 0.9020             TrainAcc: 0.5000\t ValidAcc: 0.6250\n",
      "Epoch:0\t Iter: 1451\t TrainLoss 0.5989\t ValidLos: 0.8753             TrainAcc: 0.5000\t ValidAcc: 0.6125\n",
      "Epoch:0\t Iter: 1501\t TrainLoss 0.6158\t ValidLos: 0.6607             TrainAcc: 0.5000\t ValidAcc: 0.6438\n",
      "Epoch:0\t Iter: 1551\t TrainLoss 0.5972\t ValidLos: 0.9433             TrainAcc: 0.5000\t ValidAcc: 0.6750\n",
      "Epoch:0\t Iter: 1601\t TrainLoss 0.5820\t ValidLos: 0.9447             TrainAcc: 0.5000\t ValidAcc: 0.6500\n",
      "Epoch:0\t Iter: 1651\t TrainLoss 0.5406\t ValidLos: 0.7969             TrainAcc: 0.5000\t ValidAcc: 0.6062\n",
      "Epoch:0\t Iter: 1701\t TrainLoss 0.4781\t ValidLos: 1.1143             TrainAcc: 1.0000\t ValidAcc: 0.5687\n",
      "Epoch:0\t Iter: 1751\t TrainLoss 0.4687\t ValidLos: 1.1846             TrainAcc: 1.0000\t ValidAcc: 0.5938\n"
     ]
    },
    {
     "ename": "KeyboardInterrupt",
     "evalue": "",
     "output_type": "error",
     "traceback": [
      "\u001b[0;31m---------------------------------------------------------------------------\u001b[0m",
      "\u001b[0;31mKeyboardInterrupt\u001b[0m                         Traceback (most recent call last)",
      "\u001b[0;32m<ipython-input-25-e38b25f90248>\u001b[0m in \u001b[0;36m<module>\u001b[0;34m()\u001b[0m\n\u001b[1;32m      7\u001b[0m     \u001b[0;32mfor\u001b[0m \u001b[0mj\u001b[0m \u001b[0;32min\u001b[0m \u001b[0mrange\u001b[0m\u001b[0;34m(\u001b[0m\u001b[0mnIter\u001b[0m\u001b[0;34m)\u001b[0m\u001b[0;34m:\u001b[0m\u001b[0;34m\u001b[0m\u001b[0m\n\u001b[1;32m      8\u001b[0m \u001b[0;31m#         trainX, trainY = dataGenerator.getTrainBatch()\u001b[0m\u001b[0;34m\u001b[0m\u001b[0;34m\u001b[0m\u001b[0m\n\u001b[0;32m----> 9\u001b[0;31m         \u001b[0mmodel\u001b[0m\u001b[0;34m.\u001b[0m\u001b[0mfit\u001b[0m\u001b[0;34m(\u001b[0m \u001b[0mtrainX\u001b[0m\u001b[0;34m,\u001b[0m \u001b[0mtrainY\u001b[0m\u001b[0;34m,\u001b[0m \u001b[0mverbose\u001b[0m \u001b[0;34m=\u001b[0m \u001b[0mFalse\u001b[0m \u001b[0;34m)\u001b[0m\u001b[0;34m\u001b[0m\u001b[0m\n\u001b[0m\u001b[1;32m     10\u001b[0m         \u001b[0;32mif\u001b[0m\u001b[0;34m(\u001b[0m \u001b[0mj\u001b[0m\u001b[0;34m%\u001b[0m\u001b[0;36m50\u001b[0m \u001b[0;34m==\u001b[0m \u001b[0;36m0\u001b[0m \u001b[0;34m)\u001b[0m\u001b[0;34m:\u001b[0m\u001b[0;34m\u001b[0m\u001b[0m\n\u001b[1;32m     11\u001b[0m \u001b[0;31m#             trainX, trainY = dataGenerator.getTrainBatch(batchSize = 10*batchSize)\u001b[0m\u001b[0;34m\u001b[0m\u001b[0;34m\u001b[0m\u001b[0m\n",
      "\u001b[0;32m/home/aditya/.virtualenvs/tf/local/lib/python2.7/site-packages/keras/engine/training.pyc\u001b[0m in \u001b[0;36mfit\u001b[0;34m(self, x, y, batch_size, epochs, verbose, callbacks, validation_split, validation_data, shuffle, class_weight, sample_weight, initial_epoch, steps_per_epoch, validation_steps, **kwargs)\u001b[0m\n\u001b[1;32m   1648\u001b[0m                               \u001b[0minitial_epoch\u001b[0m\u001b[0;34m=\u001b[0m\u001b[0minitial_epoch\u001b[0m\u001b[0;34m,\u001b[0m\u001b[0;34m\u001b[0m\u001b[0m\n\u001b[1;32m   1649\u001b[0m                               \u001b[0msteps_per_epoch\u001b[0m\u001b[0;34m=\u001b[0m\u001b[0msteps_per_epoch\u001b[0m\u001b[0;34m,\u001b[0m\u001b[0;34m\u001b[0m\u001b[0m\n\u001b[0;32m-> 1650\u001b[0;31m                               validation_steps=validation_steps)\n\u001b[0m\u001b[1;32m   1651\u001b[0m \u001b[0;34m\u001b[0m\u001b[0m\n\u001b[1;32m   1652\u001b[0m     def evaluate(self, x=None, y=None,\n",
      "\u001b[0;32m/home/aditya/.virtualenvs/tf/local/lib/python2.7/site-packages/keras/engine/training.pyc\u001b[0m in \u001b[0;36m_fit_loop\u001b[0;34m(self, f, ins, out_labels, batch_size, epochs, verbose, callbacks, val_f, val_ins, shuffle, callback_metrics, initial_epoch, steps_per_epoch, validation_steps)\u001b[0m\n\u001b[1;32m   1211\u001b[0m                     \u001b[0mbatch_logs\u001b[0m\u001b[0;34m[\u001b[0m\u001b[0;34m'size'\u001b[0m\u001b[0;34m]\u001b[0m \u001b[0;34m=\u001b[0m \u001b[0mlen\u001b[0m\u001b[0;34m(\u001b[0m\u001b[0mbatch_ids\u001b[0m\u001b[0;34m)\u001b[0m\u001b[0;34m\u001b[0m\u001b[0m\n\u001b[1;32m   1212\u001b[0m                     \u001b[0mcallbacks\u001b[0m\u001b[0;34m.\u001b[0m\u001b[0mon_batch_begin\u001b[0m\u001b[0;34m(\u001b[0m\u001b[0mbatch_index\u001b[0m\u001b[0;34m,\u001b[0m \u001b[0mbatch_logs\u001b[0m\u001b[0;34m)\u001b[0m\u001b[0;34m\u001b[0m\u001b[0m\n\u001b[0;32m-> 1213\u001b[0;31m                     \u001b[0mouts\u001b[0m \u001b[0;34m=\u001b[0m \u001b[0mf\u001b[0m\u001b[0;34m(\u001b[0m\u001b[0mins_batch\u001b[0m\u001b[0;34m)\u001b[0m\u001b[0;34m\u001b[0m\u001b[0m\n\u001b[0m\u001b[1;32m   1214\u001b[0m                     \u001b[0;32mif\u001b[0m \u001b[0;32mnot\u001b[0m \u001b[0misinstance\u001b[0m\u001b[0;34m(\u001b[0m\u001b[0mouts\u001b[0m\u001b[0;34m,\u001b[0m \u001b[0mlist\u001b[0m\u001b[0;34m)\u001b[0m\u001b[0;34m:\u001b[0m\u001b[0;34m\u001b[0m\u001b[0m\n\u001b[1;32m   1215\u001b[0m                         \u001b[0mouts\u001b[0m \u001b[0;34m=\u001b[0m \u001b[0;34m[\u001b[0m\u001b[0mouts\u001b[0m\u001b[0;34m]\u001b[0m\u001b[0;34m\u001b[0m\u001b[0m\n",
      "\u001b[0;32m/home/aditya/.virtualenvs/tf/local/lib/python2.7/site-packages/keras/backend/tensorflow_backend.pyc\u001b[0m in \u001b[0;36m__call__\u001b[0;34m(self, inputs)\u001b[0m\n\u001b[1;32m   2350\u001b[0m         \u001b[0msession\u001b[0m \u001b[0;34m=\u001b[0m \u001b[0mget_session\u001b[0m\u001b[0;34m(\u001b[0m\u001b[0;34m)\u001b[0m\u001b[0;34m\u001b[0m\u001b[0m\n\u001b[1;32m   2351\u001b[0m         updated = session.run(fetches=fetches, feed_dict=feed_dict,\n\u001b[0;32m-> 2352\u001b[0;31m                               **self.session_kwargs)\n\u001b[0m\u001b[1;32m   2353\u001b[0m         \u001b[0;32mreturn\u001b[0m \u001b[0mupdated\u001b[0m\u001b[0;34m[\u001b[0m\u001b[0;34m:\u001b[0m\u001b[0mlen\u001b[0m\u001b[0;34m(\u001b[0m\u001b[0mself\u001b[0m\u001b[0;34m.\u001b[0m\u001b[0moutputs\u001b[0m\u001b[0;34m)\u001b[0m\u001b[0;34m]\u001b[0m\u001b[0;34m\u001b[0m\u001b[0m\n\u001b[1;32m   2354\u001b[0m \u001b[0;34m\u001b[0m\u001b[0m\n",
      "\u001b[0;32m/home/aditya/.virtualenvs/tf/local/lib/python2.7/site-packages/tensorflow/python/client/session.pyc\u001b[0m in \u001b[0;36mrun\u001b[0;34m(self, fetches, feed_dict, options, run_metadata)\u001b[0m\n\u001b[1;32m    887\u001b[0m     \u001b[0;32mtry\u001b[0m\u001b[0;34m:\u001b[0m\u001b[0;34m\u001b[0m\u001b[0m\n\u001b[1;32m    888\u001b[0m       result = self._run(None, fetches, feed_dict, options_ptr,\n\u001b[0;32m--> 889\u001b[0;31m                          run_metadata_ptr)\n\u001b[0m\u001b[1;32m    890\u001b[0m       \u001b[0;32mif\u001b[0m \u001b[0mrun_metadata\u001b[0m\u001b[0;34m:\u001b[0m\u001b[0;34m\u001b[0m\u001b[0m\n\u001b[1;32m    891\u001b[0m         \u001b[0mproto_data\u001b[0m \u001b[0;34m=\u001b[0m \u001b[0mtf_session\u001b[0m\u001b[0;34m.\u001b[0m\u001b[0mTF_GetBuffer\u001b[0m\u001b[0;34m(\u001b[0m\u001b[0mrun_metadata_ptr\u001b[0m\u001b[0;34m)\u001b[0m\u001b[0;34m\u001b[0m\u001b[0m\n",
      "\u001b[0;32m/home/aditya/.virtualenvs/tf/local/lib/python2.7/site-packages/tensorflow/python/client/session.pyc\u001b[0m in \u001b[0;36m_run\u001b[0;34m(self, handle, fetches, feed_dict, options, run_metadata)\u001b[0m\n\u001b[1;32m   1118\u001b[0m     \u001b[0;32mif\u001b[0m \u001b[0mfinal_fetches\u001b[0m \u001b[0;32mor\u001b[0m \u001b[0mfinal_targets\u001b[0m \u001b[0;32mor\u001b[0m \u001b[0;34m(\u001b[0m\u001b[0mhandle\u001b[0m \u001b[0;32mand\u001b[0m \u001b[0mfeed_dict_tensor\u001b[0m\u001b[0;34m)\u001b[0m\u001b[0;34m:\u001b[0m\u001b[0;34m\u001b[0m\u001b[0m\n\u001b[1;32m   1119\u001b[0m       results = self._do_run(handle, final_targets, final_fetches,\n\u001b[0;32m-> 1120\u001b[0;31m                              feed_dict_tensor, options, run_metadata)\n\u001b[0m\u001b[1;32m   1121\u001b[0m     \u001b[0;32melse\u001b[0m\u001b[0;34m:\u001b[0m\u001b[0;34m\u001b[0m\u001b[0m\n\u001b[1;32m   1122\u001b[0m       \u001b[0mresults\u001b[0m \u001b[0;34m=\u001b[0m \u001b[0;34m[\u001b[0m\u001b[0;34m]\u001b[0m\u001b[0;34m\u001b[0m\u001b[0m\n",
      "\u001b[0;32m/home/aditya/.virtualenvs/tf/local/lib/python2.7/site-packages/tensorflow/python/client/session.pyc\u001b[0m in \u001b[0;36m_do_run\u001b[0;34m(self, handle, target_list, fetch_list, feed_dict, options, run_metadata)\u001b[0m\n\u001b[1;32m   1315\u001b[0m     \u001b[0;32mif\u001b[0m \u001b[0mhandle\u001b[0m \u001b[0;32mis\u001b[0m \u001b[0mNone\u001b[0m\u001b[0;34m:\u001b[0m\u001b[0;34m\u001b[0m\u001b[0m\n\u001b[1;32m   1316\u001b[0m       return self._do_call(_run_fn, self._session, feeds, fetches, targets,\n\u001b[0;32m-> 1317\u001b[0;31m                            options, run_metadata)\n\u001b[0m\u001b[1;32m   1318\u001b[0m     \u001b[0;32melse\u001b[0m\u001b[0;34m:\u001b[0m\u001b[0;34m\u001b[0m\u001b[0m\n\u001b[1;32m   1319\u001b[0m       \u001b[0;32mreturn\u001b[0m \u001b[0mself\u001b[0m\u001b[0;34m.\u001b[0m\u001b[0m_do_call\u001b[0m\u001b[0;34m(\u001b[0m\u001b[0m_prun_fn\u001b[0m\u001b[0;34m,\u001b[0m \u001b[0mself\u001b[0m\u001b[0;34m.\u001b[0m\u001b[0m_session\u001b[0m\u001b[0;34m,\u001b[0m \u001b[0mhandle\u001b[0m\u001b[0;34m,\u001b[0m \u001b[0mfeeds\u001b[0m\u001b[0;34m,\u001b[0m \u001b[0mfetches\u001b[0m\u001b[0;34m)\u001b[0m\u001b[0;34m\u001b[0m\u001b[0m\n",
      "\u001b[0;32m/home/aditya/.virtualenvs/tf/local/lib/python2.7/site-packages/tensorflow/python/client/session.pyc\u001b[0m in \u001b[0;36m_do_call\u001b[0;34m(self, fn, *args)\u001b[0m\n\u001b[1;32m   1321\u001b[0m   \u001b[0;32mdef\u001b[0m \u001b[0m_do_call\u001b[0m\u001b[0;34m(\u001b[0m\u001b[0mself\u001b[0m\u001b[0;34m,\u001b[0m \u001b[0mfn\u001b[0m\u001b[0;34m,\u001b[0m \u001b[0;34m*\u001b[0m\u001b[0margs\u001b[0m\u001b[0;34m)\u001b[0m\u001b[0;34m:\u001b[0m\u001b[0;34m\u001b[0m\u001b[0m\n\u001b[1;32m   1322\u001b[0m     \u001b[0;32mtry\u001b[0m\u001b[0;34m:\u001b[0m\u001b[0;34m\u001b[0m\u001b[0m\n\u001b[0;32m-> 1323\u001b[0;31m       \u001b[0;32mreturn\u001b[0m \u001b[0mfn\u001b[0m\u001b[0;34m(\u001b[0m\u001b[0;34m*\u001b[0m\u001b[0margs\u001b[0m\u001b[0;34m)\u001b[0m\u001b[0;34m\u001b[0m\u001b[0m\n\u001b[0m\u001b[1;32m   1324\u001b[0m     \u001b[0;32mexcept\u001b[0m \u001b[0merrors\u001b[0m\u001b[0;34m.\u001b[0m\u001b[0mOpError\u001b[0m \u001b[0;32mas\u001b[0m \u001b[0me\u001b[0m\u001b[0;34m:\u001b[0m\u001b[0;34m\u001b[0m\u001b[0m\n\u001b[1;32m   1325\u001b[0m       \u001b[0mmessage\u001b[0m \u001b[0;34m=\u001b[0m \u001b[0mcompat\u001b[0m\u001b[0;34m.\u001b[0m\u001b[0mas_text\u001b[0m\u001b[0;34m(\u001b[0m\u001b[0me\u001b[0m\u001b[0;34m.\u001b[0m\u001b[0mmessage\u001b[0m\u001b[0;34m)\u001b[0m\u001b[0;34m\u001b[0m\u001b[0m\n",
      "\u001b[0;32m/home/aditya/.virtualenvs/tf/local/lib/python2.7/site-packages/tensorflow/python/client/session.pyc\u001b[0m in \u001b[0;36m_run_fn\u001b[0;34m(session, feed_dict, fetch_list, target_list, options, run_metadata)\u001b[0m\n\u001b[1;32m   1300\u001b[0m           return tf_session.TF_Run(session, options,\n\u001b[1;32m   1301\u001b[0m                                    \u001b[0mfeed_dict\u001b[0m\u001b[0;34m,\u001b[0m \u001b[0mfetch_list\u001b[0m\u001b[0;34m,\u001b[0m \u001b[0mtarget_list\u001b[0m\u001b[0;34m,\u001b[0m\u001b[0;34m\u001b[0m\u001b[0m\n\u001b[0;32m-> 1302\u001b[0;31m                                    status, run_metadata)\n\u001b[0m\u001b[1;32m   1303\u001b[0m \u001b[0;34m\u001b[0m\u001b[0m\n\u001b[1;32m   1304\u001b[0m     \u001b[0;32mdef\u001b[0m \u001b[0m_prun_fn\u001b[0m\u001b[0;34m(\u001b[0m\u001b[0msession\u001b[0m\u001b[0;34m,\u001b[0m \u001b[0mhandle\u001b[0m\u001b[0;34m,\u001b[0m \u001b[0mfeed_dict\u001b[0m\u001b[0;34m,\u001b[0m \u001b[0mfetch_list\u001b[0m\u001b[0;34m)\u001b[0m\u001b[0;34m:\u001b[0m\u001b[0;34m\u001b[0m\u001b[0m\n",
      "\u001b[0;31mKeyboardInterrupt\u001b[0m: "
     ]
    }
   ],
   "source": [
    "trainHist = [[], []]\n",
    "validHist = [[], []]\n",
    "iterSize = 100\n",
    "trainX, trainY = dataGenerator.getTrainBatch(2)\n",
    "nIter = dataGenerator.nTrainData/(batchSize)\n",
    "for i in range(nEpochs):\n",
    "    for j in range(nIter):\n",
    "#         trainX, trainY = dataGenerator.getTrainBatch()\n",
    "        model.fit( trainX, trainY, verbose = False )\n",
    "        if( j%50 == 0 ):\n",
    "#             trainX, trainY = dataGenerator.getTrainBatch(batchSize = 10*batchSize)\n",
    "            validX, validY = dataGenerator.getValidBatch(batchSize = 10*batchSize)\n",
    "            trainLoss, trainAcc = model.evaluate( trainX, trainY, verbose = False )\n",
    "            validLoss, validAcc = model.evaluate(validX, validY, verbose = False )\n",
    "            trainer.addTrainDetails(trainLoss, trainAcc, validLoss, validAcc, compareWithBest = True)\n",
    "            print( \"Epoch:{0}\\t Iter: {1}\\t TrainLoss {2:.4f}\\t ValidLos: {3:.4f} \\\n",
    "            TrainAcc: {4:.4f}\\t ValidAcc: {5:.4f}\"\n",
    "                   .format(i, j+1, trainLoss, validLoss, trainAcc, validAcc))"
   ]
  },
  {
   "cell_type": "markdown",
   "metadata": {},
   "source": [
    "## train Model 2"
   ]
  },
  {
   "cell_type": "code",
   "execution_count": null,
   "metadata": {},
   "outputs": [],
   "source": [
    "# trainHist = [[], []]\n",
    "# validHist = [[], []]\n",
    "# iterSize = 100\n",
    "# bestLoss = 100\n",
    "# weightFilePath = \"./1234\"\n",
    "# nIter = dataGenerator.nTrainData/(batchSize)\n",
    "# for i in range(nEpochs):\n",
    "#     for j in range(nIter):\n",
    "#         trainX, trainY = dataGenerator.getTrainBatch()\n",
    "#         model.fit( trainX, trainY, verbose = False )\n",
    "#         if( j%iterSize == 0 ):\n",
    "#             trainX, trainY = dataGenerator.getTrainBatch(batchSize = 5*batchSize)\n",
    "#             validX, validY = dataGenerator.getValidBatch(batchSize = 5*batchSize)\n",
    "#             trainLoss, trainAcc = model.evaluate( trainX, trainY, verbose = False )\n",
    "#             validLoss, validAcc = model.evaluate(validX, validY, verbose = False )\n",
    "#             if validLoss < bestLoss:\n",
    "#                 bestLoss = validLoss\n",
    "#                 print(\"Best loss:{0:.3f}\\t BessAcc: {1:.3f} \\t Saving weights \".format(validLoss, validAcc))\n",
    "#                 if os.path.isfile(weightFilePath):\n",
    "#                     os.remove(weightFilePath)\n",
    "#                 weightFilePath = 'model/weights_loss_{0:.4f}_acc_{1:.3f}.h5py'.format(validLoss, validAcc)\n",
    "#                 model.save_weights(weightFilePath)\n",
    "#             print( \"Epoch:{0}\\t Iter: {1}\\t TrainLoss {2:.4f}\\t ValidLos: {3:.4f} \\\n",
    "#             TrainAcc: {4:.4f}\\t ValidAcc: {5:.4f}\"\n",
    "#                    .format(i, j+1, trainLoss, validLoss, trainAcc, validAcc))\n",
    "#             trainHist[0].append(trainLoss)\n",
    "#             trainHist[1].append(trainAcc)\n",
    "#             validHist[0].append(validLoss)\n",
    "#             validHist[1].append(validAcc)\n",
    "# plotHistory(trainHist, validHist)"
   ]
  }
 ],
 "metadata": {
  "kernelspec": {
   "display_name": "tf",
   "language": "python",
   "name": "myenv"
  },
  "language_info": {
   "codemirror_mode": {
    "name": "ipython",
    "version": 2
   },
   "file_extension": ".py",
   "mimetype": "text/x-python",
   "name": "python",
   "nbconvert_exporter": "python",
   "pygments_lexer": "ipython2",
   "version": "2.7.12"
  }
 },
 "nbformat": 4,
 "nbformat_minor": 2
}
