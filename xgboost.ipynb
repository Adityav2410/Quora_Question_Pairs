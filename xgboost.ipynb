{
 "cells": [
  {
   "cell_type": "code",
   "execution_count": 1,
   "metadata": {},
   "outputs": [],
   "source": [
    "import pandas as pd\n",
    "import numpy as np\n",
    "from collections import defaultdict\n",
    "import nltk\n",
    "import string\n",
    "from nltk.stem.porter import *\n",
    "from sklearn import linear_model\n",
    "import sys\n",
    "import unicodedata\n",
    "import string\n",
    "import operator\n",
    "import math\n",
    "from sklearn.feature_extraction.text import TfidfVectorizer\n",
    "from nltk.corpus import stopwords\n",
    "from nltk.stem.porter import PorterStemmer\n",
    "from scipy import sparse\n",
    "from scipy.spatial.distance import cosine\n",
    "from sklearn.metrics import average_precision_score\n",
    "from sklearn.metrics import precision_recall_curve\n",
    "import matplotlib.pyplot as plt\n",
    "import xgboost as xgb\n",
    "from xgboost.sklearn import XGBClassifier\n",
    "stdout = sys.stdout\n",
    "reload(sys)  \n",
    "sys.setdefaultencoding('utf8')\n",
    "sys.stdout = stdout"
   ]
  },
  {
   "cell_type": "code",
   "execution_count": 2,
   "metadata": {},
   "outputs": [
    {
     "name": "stdout",
     "output_type": "stream",
     "text": [
      "Index([u'id', u'qid1', u'qid2', u'question1', u'question2', u'is_duplicate'], dtype='object')\n"
     ]
    }
   ],
   "source": [
    "train_df = pd.read_csv('train.csv')\n",
    "print train_df.columns"
   ]
  },
  {
   "cell_type": "code",
   "execution_count": 21,
   "metadata": {},
   "outputs": [],
   "source": [
    "train_q1 = train_df['question1'].tolist()\n",
    "train_q2 = train_df['question2'].tolist()\n",
    "trainY = train_df['is_duplicate'].tolist()"
   ]
  },
  {
   "cell_type": "code",
   "execution_count": 22,
   "metadata": {},
   "outputs": [
    {
     "name": "stdout",
     "output_type": "stream",
     "text": [
      "404290\n",
      "404290\n",
      "[363362]\n",
      "[363362, 105780, 201841]\n",
      "404287\n",
      "404287\n",
      "404287\n"
     ]
    }
   ],
   "source": [
    "print len(train_q1)\n",
    "print len(train_q2)\n",
    "\n",
    "del_idxs = []\n",
    "\n",
    "for i,q in enumerate(train_q1):\n",
    "    if type(q) != str:\n",
    "        del_idxs.append(i)\n",
    "print del_idxs\n",
    "for i,q in enumerate(train_q2):\n",
    "    if type(q) != str:\n",
    "        del_idxs.append(i)\n",
    "print del_idxs\n",
    "del_idxs = list(set(del_idxs))\n",
    "\n",
    "train_q1 = [train_q1[i] for i in range(len(train_q1)) if i not in del_idxs]    \n",
    "train_q2 = [train_q2[i] for i in range(len(train_q2)) if i not in del_idxs]    \n",
    "trainY = [trainY[i] for i in range(len(trainY)) if i not in del_idxs]    \n",
    "print len(train_q1)\n",
    "print len(train_q2)\n",
    "print len(trainY)"
   ]
  },
  {
   "cell_type": "code",
   "execution_count": 5,
   "metadata": {},
   "outputs": [],
   "source": [
    "#nltk.download('stopwords')\n",
    "tbl = dict.fromkeys(i for i in xrange(sys.maxunicode) if unicodedata.category(unichr(i)).startswith('P'))\n",
    "stop_words = set(stopwords.words('english'))\n",
    "def tokenize(text):\n",
    "    #print text\n",
    "    text = unicode(text)\n",
    "    #text = re.sub(r'\\d+', '', text)\n",
    "    #print text\n",
    "    tokens = nltk.word_tokenize(text)\n",
    "    \n",
    "    stems = []\n",
    "    for item in tokens:\n",
    "       if item not in stop_words:\n",
    "            #stems.append(item)\n",
    "           stems.append(PorterStemmer().stem(item))\n",
    "    return stems\n",
    "\n",
    "def preprocess(text):\n",
    "    if type(text)==float:\n",
    "        print text\n",
    "    text = text.lower().translate(None, string.punctuation)\n",
    "    return text"
   ]
  },
  {
   "cell_type": "code",
   "execution_count": 6,
   "metadata": {},
   "outputs": [],
   "source": [
    "# Remove punctuation\n",
    "\n",
    "train_q1 = [preprocess(q) for q in train_q1]\n",
    "train_q2 = [preprocess(q) for q in train_q2]"
   ]
  },
  {
   "cell_type": "code",
   "execution_count": 7,
   "metadata": {},
   "outputs": [],
   "source": [
    "# stemming and tokenize\n",
    "\n",
    "wordCount = defaultdict(int)\n",
    "for i,q in enumerate(train_q1):\n",
    "    words = tokenize(q)\n",
    "    for w in words:\n",
    "        wordCount[w]+=1"
   ]
  },
  {
   "cell_type": "code",
   "execution_count": 8,
   "metadata": {},
   "outputs": [
    {
     "name": "stdout",
     "output_type": "stream",
     "text": [
      "[u'best', u'get', u'india', u'like', u'differ', u'use', u'peopl', u'good', u'way', u'would', u'make', u'one', u'quora', u'learn', u'time', u'life', u'money', u'know', u'work', u'mean', u'year', u'what', u'question', u'thing', u'indian', u'much', u'think', u'someon', u'new', u'start', u'go', u'engin', u'book', u'mani', u'becom', u'find', u'happen', u'trump', u'day', u'movi', u'ever', u'job', u'without', u'world', u'onlin', u'us', u'want', u'person', u'take', u'feel', u'better', u'girl', u'first', u'note', u'univers', u'love', u'compani', u'english', u'need', u'account', u'improv', u'possibl', u'program', u'2016', u'number', u'prepar', u'phone', u'compar', u'could', u'dont', u'buy', u'countri', u'chang', u'live', u'languag', u'ask', u'student', u'realli', u'weight', u'stop', u'app', u'lose', u'studi', u'500', u'websit', u'googl', u'1000', u'answer', u'busi', u'donald', u'import', u'long', u'develop', u'effect', u'war', u'sex', u'colleg', u'friend', u'presid', u'look']\n"
     ]
    }
   ],
   "source": [
    "# Limit the vocabulary\n",
    "uni_sorted = sorted(wordCount.items(), key=operator.itemgetter(1)) [::-1]\n",
    "vocab = [item[0] for item in uni_sorted[:10000]]\n",
    "print vocab[:100]"
   ]
  },
  {
   "cell_type": "code",
   "execution_count": 9,
   "metadata": {},
   "outputs": [],
   "source": [
    "# Create a single list of questions\n",
    "train = train_q1+train_q2\n",
    "vectorizer = TfidfVectorizer(tokenizer=tokenize, vocabulary=vocab)\n",
    "train_tfidf = vectorizer.fit_transform(train)"
   ]
  },
  {
   "cell_type": "code",
   "execution_count": 23,
   "metadata": {},
   "outputs": [
    {
     "name": "stdout",
     "output_type": "stream",
     "text": [
      "(808574, 10000)\n",
      "404287\n",
      "404287\n",
      "808574\n",
      "(390000, 20000)\n",
      "(14287,)\n"
     ]
    }
   ],
   "source": [
    "num_train = 390000\n",
    "\n",
    "trainX = sparse.hstack([train_tfidf[:num_train], train_tfidf[len(train_q1):len(train_q1)+num_train]])\n",
    "valX = sparse.hstack([train_tfidf[num_train:len(train_q1)], train_tfidf[len(train_q1) +num_train:]])\n",
    "\n",
    "trainY = np.array(trainY)\n",
    "valY = trainY[num_train:]\n",
    "trainY = trainY[:num_train]\n",
    "print train_tfidf.shape\n",
    "print len(train_q1)\n",
    "print len(train_q2)\n",
    "print len(train)\n",
    "print trainX.shape\n",
    "print valY.shape"
   ]
  },
  {
   "cell_type": "code",
   "execution_count": 24,
   "metadata": {},
   "outputs": [
    {
     "data": {
      "text/plain": [
       "XGBClassifier(base_score=0.5, colsample_bylevel=1, colsample_bytree=1,\n",
       "       gamma=0, learning_rate=0.1, max_delta_step=0, max_depth=3,\n",
       "       min_child_weight=1, missing=None, n_estimators=100, nthread=-1,\n",
       "       objective='binary:logistic', reg_alpha=0, reg_lambda=1,\n",
       "       scale_pos_weight=1, seed=0, silent=True, subsample=1)"
      ]
     },
     "execution_count": 24,
     "metadata": {},
     "output_type": "execute_result"
    }
   ],
   "source": [
    "xgb1 = xgb.XGBClassifier()\n",
    "xgb1.fit(trainX, trainY)"
   ]
  },
  {
   "cell_type": "code",
   "execution_count": 25,
   "metadata": {},
   "outputs": [],
   "source": [
    "preds_train = xgb1.predict(trainX)\n",
    "preds_val = xgb1.predict(valX)"
   ]
  },
  {
   "cell_type": "code",
   "execution_count": 26,
   "metadata": {},
   "outputs": [
    {
     "name": "stdout",
     "output_type": "stream",
     "text": [
      "Training accuracy:  0.691535897436\n",
      "Validation accuracy:  0.713095821376\n"
     ]
    }
   ],
   "source": [
    "acc_train = np.mean(trainY==preds_train)\n",
    "acc_val = np.mean(valY==preds_val)\n",
    "\n",
    "print 'Training accuracy: ', acc_train\n",
    "print 'Validation accuracy: ', acc_val"
   ]
  },
  {
   "cell_type": "code",
   "execution_count": null,
   "metadata": {},
   "outputs": [],
   "source": [
    "print "
   ]
  },
  {
   "cell_type": "code",
   "execution_count": 28,
   "metadata": {},
   "outputs": [
    {
     "name": "stdout",
     "output_type": "stream",
     "text": [
      "Average precision-recall score on validation data: 0.44\n"
     ]
    }
   ],
   "source": [
    "average_precision = average_precision_score(valY, preds_val)\n",
    "\n",
    "print('Average precision-recall score on validation data: {0:0.2f}'.format(\n",
    "      average_precision))\n"
   ]
  },
  {
   "cell_type": "code",
   "execution_count": 31,
   "metadata": {},
   "outputs": [],
   "source": [
    "precision, recall, _ = precision_recall_curve(valY, preds_val)\n",
    "\n",
    "plt.step(recall, precision, color='b', alpha=0.2,\n",
    "         where='post')\n",
    "plt.fill_between(recall, precision, step='post', alpha=0.2,\n",
    "                 color='b')\n",
    "\n",
    "plt.xlabel('Recall')\n",
    "plt.ylabel('Precision')\n",
    "plt.ylim([0.0, 1.05])\n",
    "plt.xlim([0.0, 1.0])\n",
    "plt.title('2-class Precision-Recall curve: AP={0:0.2f}'.format(\n",
    "          average_precision))\n",
    "plt.savefig('roc.PNG')"
   ]
  }
 ],
 "metadata": {
  "kernelspec": {
   "display_name": "Python 2",
   "language": "python",
   "name": "python2"
  },
  "language_info": {
   "codemirror_mode": {
    "name": "ipython",
    "version": 2
   },
   "file_extension": ".py",
   "mimetype": "text/x-python",
   "name": "python",
   "nbconvert_exporter": "python",
   "pygments_lexer": "ipython2",
   "version": "2.7.12"
  }
 },
 "nbformat": 4,
 "nbformat_minor": 1
}
