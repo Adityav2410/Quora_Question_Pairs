{
 "metadata": {
  "kernelspec": {
   "display_name": "Python 2",
   "language": "python",
   "name": "python2"
  },
  "name": "",
  "signature": "sha256:925f73a8680612f6a12bc630a8ca5a10b588c826f62608f4e0af14a528a4a644"
 },
 "nbformat": 3,
 "nbformat_minor": 0,
 "worksheets": [
  {
   "cells": [
    {
     "cell_type": "code",
     "collapsed": false,
     "input": [
      "import pandas as pd\n",
      "import numpy as np\n",
      "from collections import defaultdict\n",
      "import nltk\n",
      "import string\n",
      "from nltk.stem.porter import *\n",
      "from sklearn import linear_model\n",
      "import sys\n",
      "import unicodedata\n",
      "import string\n",
      "import operator\n",
      "import math\n",
      "from sklearn.feature_extraction.text import TfidfVectorizer\n",
      "from nltk.corpus import stopwords\n",
      "from nltk.stem.porter import PorterStemmer\n",
      "from scipy import sparse\n",
      "from scipy.spatial.distance import cosine\n",
      "from sklearn.metrics import average_precision_score\n",
      "from sklearn.metrics import precision_recall_curve\n",
      "import matplotlib.pyplot as plt\n",
      "import xgboost as xgb\n",
      "from xgboost.sklearn import XGBClassifier\n",
      "stdout = sys.stdout\n",
      "reload(sys)  \n",
      "sys.setdefaultencoding('utf8')\n",
      "sys.stdout = stdout"
     ],
     "language": "python",
     "metadata": {},
     "outputs": [],
     "prompt_number": 1
    },
    {
     "cell_type": "code",
     "collapsed": false,
     "input": [
      "train_df = pd.read_csv('train.csv')\n",
      "print train_df.columns"
     ],
     "language": "python",
     "metadata": {},
     "outputs": [
      {
       "output_type": "stream",
       "stream": "stdout",
       "text": [
        "Index([u'id', u'qid1', u'qid2', u'question1', u'question2', u'is_duplicate'], dtype='object')\n"
       ]
      }
     ],
     "prompt_number": 2
    },
    {
     "cell_type": "code",
     "collapsed": false,
     "input": [
      "train_q1 = train_df['question1'].tolist()\n",
      "train_q2 = train_df['question2'].tolist()\n",
      "trainY = train_df['is_duplicate'].tolist()"
     ],
     "language": "python",
     "metadata": {},
     "outputs": [],
     "prompt_number": 21
    },
    {
     "cell_type": "code",
     "collapsed": false,
     "input": [
      "print len(train_q1)\n",
      "print len(train_q2)\n",
      "\n",
      "del_idxs = []\n",
      "\n",
      "for i,q in enumerate(train_q1):\n",
      "    if type(q) != str:\n",
      "        del_idxs.append(i)\n",
      "print del_idxs\n",
      "for i,q in enumerate(train_q2):\n",
      "    if type(q) != str:\n",
      "        del_idxs.append(i)\n",
      "print del_idxs\n",
      "del_idxs = list(set(del_idxs))\n",
      "\n",
      "train_q1 = [train_q1[i] for i in range(len(train_q1)) if i not in del_idxs]    \n",
      "train_q2 = [train_q2[i] for i in range(len(train_q2)) if i not in del_idxs]    \n",
      "trainY = [trainY[i] for i in range(len(trainY)) if i not in del_idxs]    \n",
      "print len(train_q1)\n",
      "print len(train_q2)\n",
      "print len(trainY)"
     ],
     "language": "python",
     "metadata": {},
     "outputs": [
      {
       "output_type": "stream",
       "stream": "stdout",
       "text": [
        "404290\n",
        "404290\n",
        "[363362]"
       ]
      },
      {
       "output_type": "stream",
       "stream": "stdout",
       "text": [
        "\n",
        "[363362, 105780, 201841]"
       ]
      },
      {
       "output_type": "stream",
       "stream": "stdout",
       "text": [
        "\n",
        "404287"
       ]
      },
      {
       "output_type": "stream",
       "stream": "stdout",
       "text": [
        "\n",
        "404287\n",
        "404287\n"
       ]
      }
     ],
     "prompt_number": 22
    },
    {
     "cell_type": "code",
     "collapsed": false,
     "input": [
      "#nltk.download('stopwords')\n",
      "tbl = dict.fromkeys(i for i in xrange(sys.maxunicode) if unicodedata.category(unichr(i)).startswith('P'))\n",
      "stop_words = set(stopwords.words('english'))\n",
      "def tokenize(text):\n",
      "    #print text\n",
      "    text = unicode(text)\n",
      "    #text = re.sub(r'\\d+', '', text)\n",
      "    #print text\n",
      "    tokens = nltk.word_tokenize(text)\n",
      "    \n",
      "    stems = []\n",
      "    for item in tokens:\n",
      "       if item not in stop_words:\n",
      "            #stems.append(item)\n",
      "           stems.append(PorterStemmer().stem(item))\n",
      "    return stems\n",
      "\n",
      "def preprocess(text):\n",
      "    if type(text)==float:\n",
      "        print text\n",
      "    text = text.lower().translate(None, string.punctuation)\n",
      "    return text"
     ],
     "language": "python",
     "metadata": {},
     "outputs": [],
     "prompt_number": 5
    },
    {
     "cell_type": "code",
     "collapsed": false,
     "input": [
      "# Remove punctuation\n",
      "\n",
      "train_q1 = [preprocess(q) for q in train_q1]\n",
      "train_q2 = [preprocess(q) for q in train_q2]"
     ],
     "language": "python",
     "metadata": {},
     "outputs": [],
     "prompt_number": 6
    },
    {
     "cell_type": "code",
     "collapsed": false,
     "input": [
      "# stemming and tokenize\n",
      "\n",
      "wordCount = defaultdict(int)\n",
      "for i,q in enumerate(train_q1):\n",
      "    words = tokenize(q)\n",
      "    for w in words:\n",
      "        wordCount[w]+=1"
     ],
     "language": "python",
     "metadata": {},
     "outputs": [],
     "prompt_number": 7
    },
    {
     "cell_type": "code",
     "collapsed": false,
     "input": [
      "# Limit the vocabulary\n",
      "uni_sorted = sorted(wordCount.items(), key=operator.itemgetter(1)) [::-1]\n",
      "vocab = [item[0] for item in uni_sorted[:10000]]\n",
      "print vocab[:100]"
     ],
     "language": "python",
     "metadata": {},
     "outputs": [
      {
       "output_type": "stream",
       "stream": "stdout",
       "text": [
        "[u'best', u'get', u'india', u'like', u'differ', u'use', u'peopl', u'good', u'way', u'would', u'make', u'one', u'quora', u'learn', u'time', u'life', u'money', u'know', u'work', u'mean', u'year', u'what', u'question', u'thing', u'indian', u'much', u'think', u'someon', u'new', u'start', u'go', u'engin', u'book', u'mani', u'becom', u'find', u'happen', u'trump', u'day', u'movi', u'ever', u'job', u'without', u'world', u'onlin', u'us', u'want', u'person', u'take', u'feel', u'better', u'girl', u'first', u'note', u'univers', u'love', u'compani', u'english', u'need', u'account', u'improv', u'possibl', u'program', u'2016', u'number', u'prepar', u'phone', u'compar', u'could', u'dont', u'buy', u'countri', u'chang', u'live', u'languag', u'ask', u'student', u'realli', u'weight', u'stop', u'app', u'lose', u'studi', u'500', u'websit', u'googl', u'1000', u'answer', u'busi', u'donald', u'import', u'long', u'develop', u'effect', u'war', u'sex', u'colleg', u'friend', u'presid', u'look']\n"
       ]
      }
     ],
     "prompt_number": 8
    },
    {
     "cell_type": "code",
     "collapsed": false,
     "input": [
      "# Create a single list of questions\n",
      "train = train_q1+train_q2\n",
      "vectorizer = TfidfVectorizer(tokenizer=tokenize, vocabulary=vocab)\n",
      "train_tfidf = vectorizer.fit_transform(train)"
     ],
     "language": "python",
     "metadata": {},
     "outputs": [],
     "prompt_number": 9
    },
    {
     "cell_type": "code",
     "collapsed": false,
     "input": [
      "num_train = 390000\n",
      "\n",
      "trainX = sparse.hstack([train_tfidf[:num_train], train_tfidf[len(train_q1):len(train_q1)+num_train]])\n",
      "valX = sparse.hstack([train_tfidf[num_train:len(train_q1)], train_tfidf[len(train_q1) +num_train:]])\n",
      "\n",
      "trainY = np.array(trainY)\n",
      "valY = trainY[num_train:]\n",
      "trainY = trainY[:num_train]\n",
      "print train_tfidf.shape\n",
      "print len(train_q1)\n",
      "print len(train_q2)\n",
      "print len(train)\n",
      "print trainX.shape\n",
      "print valY.shape"
     ],
     "language": "python",
     "metadata": {},
     "outputs": [
      {
       "output_type": "stream",
       "stream": "stdout",
       "text": [
        "(808574, 10000)\n",
        "404287\n",
        "404287\n",
        "808574\n",
        "(390000, 20000)\n",
        "(14287,)\n"
       ]
      }
     ],
     "prompt_number": 23
    },
    {
     "cell_type": "code",
     "collapsed": false,
     "input": [
      "xgb1 = xgb.XGBClassifier()\n",
      "xgb1.fit(trainX, trainY)"
     ],
     "language": "python",
     "metadata": {},
     "outputs": [
      {
       "metadata": {},
       "output_type": "pyout",
       "prompt_number": 24,
       "text": [
        "XGBClassifier(base_score=0.5, colsample_bylevel=1, colsample_bytree=1,\n",
        "       gamma=0, learning_rate=0.1, max_delta_step=0, max_depth=3,\n",
        "       min_child_weight=1, missing=None, n_estimators=100, nthread=-1,\n",
        "       objective='binary:logistic', reg_alpha=0, reg_lambda=1,\n",
        "       scale_pos_weight=1, seed=0, silent=True, subsample=1)"
       ]
      }
     ],
     "prompt_number": 24
    },
    {
     "cell_type": "code",
     "collapsed": false,
     "input": [
      "preds_train = xgb1.predict(trainX)\n",
      "preds_val = xgb1.predict(valX)"
     ],
     "language": "python",
     "metadata": {},
     "outputs": [],
     "prompt_number": 25
    },
    {
     "cell_type": "code",
     "collapsed": false,
     "input": [
      "acc_train = np.mean(trainY==preds_train)\n",
      "acc_val = np.mean(valY==preds_val)\n",
      "\n",
      "print 'Training accuracy: ', acc_train\n",
      "print 'Validation accuracy: ', acc_val"
     ],
     "language": "python",
     "metadata": {},
     "outputs": [
      {
       "output_type": "stream",
       "stream": "stdout",
       "text": [
        "Training accuracy:  0.691535897436\n",
        "Validation accuracy:  0.713095821376\n"
       ]
      }
     ],
     "prompt_number": 26
    },
    {
     "cell_type": "code",
     "collapsed": false,
     "input": [
      "print "
     ],
     "language": "python",
     "metadata": {},
     "outputs": []
    },
    {
     "cell_type": "code",
     "collapsed": false,
     "input": [
      "average_precision = average_precision_score(valY, preds_val)\n",
      "\n",
      "print('Average precision-recall score on validation data: {0:0.2f}'.format(\n",
      "      average_precision))\n"
     ],
     "language": "python",
     "metadata": {},
     "outputs": [
      {
       "output_type": "stream",
       "stream": "stdout",
       "text": [
        "Average precision-recall score on validation data: 0.44\n"
       ]
      }
     ],
     "prompt_number": 28
    },
    {
     "cell_type": "code",
     "collapsed": false,
     "input": [
      "precision, recall, _ = precision_recall_curve(valY, preds_val)\n",
      "\n",
      "plt.step(recall, precision, color='b', alpha=0.2,\n",
      "         where='post')\n",
      "plt.fill_between(recall, precision, step='post', alpha=0.2,\n",
      "                 color='b')\n",
      "\n",
      "plt.xlabel('Recall')\n",
      "plt.ylabel('Precision')\n",
      "plt.ylim([0.0, 1.05])\n",
      "plt.xlim([0.0, 1.0])\n",
      "plt.title('2-class Precision-Recall curve: AP={0:0.2f}'.format(\n",
      "          average_precision))\n",
      "plt.savefig('roc.PNG')"
     ],
     "language": "python",
     "metadata": {},
     "outputs": [],
     "prompt_number": 31
    }
   ],
   "metadata": {}
  }
 ]
}